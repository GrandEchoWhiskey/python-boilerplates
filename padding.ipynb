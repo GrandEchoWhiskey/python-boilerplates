{
 "cells": [
  {
   "cell_type": "code",
   "execution_count": 3,
   "id": "e25ec5ac-6dd7-439d-9dbe-5c645efbb838",
   "metadata": {},
   "outputs": [],
   "source": [
    "from os import urandom"
   ]
  },
  {
   "cell_type": "code",
   "execution_count": 31,
   "id": "c3d59def-8418-4407-a05d-435a17d3ba4e",
   "metadata": {},
   "outputs": [],
   "source": [
    "def pad(data: bytes, size: int = 16, mode: str = 'pkcs7') -> bytes:\n",
    "    \"\"\"\n",
    "    modes: pkcs7, x923, iso10126, iso7816.\n",
    "    \"\"\"\n",
    "    if size < 1: raise ValueError('size must be greater than 0')\n",
    "    diff = size - len(data) % size\n",
    "    if diff == 0: diff = size\n",
    "    if mode == 'pkcs7':\n",
    "        return data + bytes([diff] * diff)\n",
    "    if mode == 'x923':\n",
    "        return data + (b'\\x00' * (diff - 1)) + bytes([diff])\n",
    "    if mode == 'iso10126':\n",
    "        return data + urandom(diff - 1) + bytes([diff])\n",
    "    if mode == 'iso7816':\n",
    "        return data + b'\\x80' + bytes(b'\\x00' * (diff-1))\n",
    "    if mode == 'zero':\n",
    "        return data + (b'\\x00' * diff)\n",
    "    raise ValueError('Invalid padding mode.')\n",
    "    \n",
    "def unpad(data: bytes, size: int = 16, mode: str = 'pkcs7') -> bytes:\n",
    "    if size < 1: raise ValueError('size must be greater than 0')\n",
    "    if len(data) % size != 0: raise ValueError('data is not padded')\n",
    "    if mode == 'iso7816':\n",
    "        for i in range(1, size+1):\n",
    "            if data[-1*i] == 128:\n",
    "                return data[:-1*i]\n",
    "            if data[-1*i] != 0:\n",
    "                raise ValueError(\"Padding is invalid\")\n",
    "    if mode == 'zero':\n",
    "        for i in range(1, size+2):\n",
    "            if data[-1*i] != 0:\n",
    "                return data[:(-1*i)+1]\n",
    "        raise ValueError(\"Padding is invalid\")\n",
    "    length = int(data[-1])\n",
    "    if length > min(size, len(data)): raise ValueError('Padding is invalid.')\n",
    "    if mode == 'pkcs7':\n",
    "        for i in range(1, length+1):\n",
    "            if data[-1*i] != data[-1]:\n",
    "                raise ValueError(\"Padding is invalid\")\n",
    "        return data[:-length]\n",
    "    if mode == 'iso10126':\n",
    "        return data[:-length]\n",
    "    if mode == 'x923':\n",
    "        for i in range(2, length+1):\n",
    "            if data[-1*i] != b'\\x00':\n",
    "                raise ValueError(\"Padding is invalid\")\n",
    "        return data[:-length]\n",
    "    raise ValueError('Invalid padding mode.')\n",
    "    "
   ]
  }
 ],
 "metadata": {
  "kernelspec": {
   "display_name": "Python 3 (ipykernel)",
   "language": "python",
   "name": "python3"
  },
  "language_info": {
   "codemirror_mode": {
    "name": "ipython",
    "version": 3
   },
   "file_extension": ".py",
   "mimetype": "text/x-python",
   "name": "python",
   "nbconvert_exporter": "python",
   "pygments_lexer": "ipython3",
   "version": "3.11.3"
  }
 },
 "nbformat": 4,
 "nbformat_minor": 5
}
